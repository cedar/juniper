{
 "cells": [
  {
   "cell_type": "code",
   "execution_count": null,
   "id": "8b928cfe-f498-47d0-9d13-8b5e2f5161bb",
   "metadata": {},
   "outputs": [],
   "source": [
    "import sys\n",
    "#import os\n",
    "#os.environ[\"XLA_PYTHON_CLIENT_MEM_FRACTION\"] = \"0.25\"\n",
    "import jax\n",
    "import time\n",
    "import matplotlib.pyplot as plt\n",
    "import numpy as np\n",
    "from PIL import Image, ImageDraw\n",
    "from IPython.display import display, clear_output\n",
    "\n",
    "from src import util\n",
    "from src import util_jax\n",
    "from src.util import tprint\n",
    "from src.Architecture import get_arch\n",
    "from src.Architecture import delete_arch\n",
    "import src.architecture_import as architecture_import\n",
    "\n",
    "from src.GaussKernel import GaussKernel\n",
    "from src.LinearKernelCombination import LinearKernelCombination\n",
    "from src.demo.demo_huetchen import demo_huetchen\n",
    "\n",
    "from src.steps.GaussInput import GaussInput\n",
    "from src.steps.NeuralField import NeuralField\n",
    "from src.steps.StaticGain import StaticGain\n",
    "from src.steps.Normalization import Normalization\n",
    "from src.steps.TransferFunction import TransferFunction\n",
    "from src.steps.Convolution import Convolution\n",
    "from src.steps.DemoInput import DemoInput\n",
    "from src.steps.TimedBoost import TimedBoost"
   ]
  },
  {
   "cell_type": "code",
   "execution_count": null,
   "id": "308a8fb9-995a-437e-aa46-0fab2122073f",
   "metadata": {},
   "outputs": [],
   "source": [
    "print(\"Computing devices found by JAX:\")\n",
    "print(jax.local_devices())"
   ]
  },
  {
   "cell_type": "code",
   "execution_count": null,
   "id": "42454bc6-7d08-48ff-be12-6464d9c0ce5c",
   "metadata": {},
   "outputs": [],
   "source": [
    "util_jax.get_config()[\"euler_step_static_precompile\"] =  False\n",
    "arch = get_arch()"
   ]
  },
  {
   "cell_type": "markdown",
   "id": "eb642acb-06e5-48b8-bfac-7ae3f5f5073e",
   "metadata": {},
   "source": [
    "<img src=\"img/demo4_sketch.png\" alt=\"demo sketch\" width=\"400\">"
   ]
  },
  {
   "cell_type": "code",
   "execution_count": null,
   "id": "4e75e5f0-47fa-43ff-86b2-60e770c10d4d",
   "metadata": {},
   "outputs": [],
   "source": [
    "delete_arch()\n",
    "arch = get_arch()\n",
    "shape = (294,447)\n",
    "\n",
    "# Static steps\n",
    "demo_input = DemoInput(\"in0\", {\"shape\":shape, \"sigma\":(30,30), \"amplitude\":0, \"center\": (0,0)})\n",
    "boost_input = TimedBoost(\"boost\", {\"amplitude\":3, \"duration\": [1.6, 4]})\n",
    "st0 = StaticGain(\"st0\", {\"factor\": 6})\n",
    "st1 = StaticGain(\"st1\", {\"factor\": 2})\n",
    "\n",
    "# field params\n",
    "exc_mem_kernel = GaussKernel({\"sigma\": (30,30), \"amplitude\": 300, \"normalized\": True})\n",
    "inh_mem_kernel = GaussKernel({\"sigma\": (55,55), \"amplitude\": -10, \"normalized\": True})\n",
    "memory_kernel = LinearKernelCombination({\"kernels\": [exc_mem_kernel, inh_mem_kernel], \"wheights\": [0.5, 0.5]})\n",
    "exc_kernel = GaussKernel({\"sigma\": (30,30), \"amplitude\": 10, \"normalized\": True})\n",
    "inh_kernel = GaussKernel({\"sigma\": (55,55), \"amplitude\": -3, \"normalized\": True})\n",
    "nf_kernel = LinearKernelCombination({\"kernels\": [exc_kernel, inh_kernel], \"wheights\": [0.5,0.5]})\n",
    "\n",
    "# Dynamic steps\n",
    "nf0 = NeuralField(\"Memory Field\", {\"shape\": shape, \"resting_level\": -5, \"global_inhibition\": -0.01, \"tau\": 0.05,  \"input_noise_gain\": 0.0, \"sigmoid\": \"AbsSigmoid\", \"beta\": 100, \"theta\":0, \"lateral_kernel_convolution\": memory_kernel})\n",
    "nf1 = NeuralField(\"Action Field\", {\"shape\": shape, \"resting_level\": -5, \"global_inhibition\": -0.00, \"tau\": 0.02,  \"input_noise_gain\": 0.0, \"sigmoid\": \"AbsSigmoid\", \"beta\": 100, \"theta\":0, \"lateral_kernel_convolution\": nf_kernel})\n",
    "nf2 = NeuralField(\"Attention Field\", {\"shape\": shape, \"resting_level\": -5, \"global_inhibition\": -0.00, \"tau\": 0.05,  \"input_noise_gain\": 0.0, \"sigmoid\": \"AbsSigmoid\", \"beta\": 100, \"theta\":0, \"lateral_kernel_convolution\": nf_kernel})\n",
    "\n",
    "# connections\n",
    "demo_input >> nf2 >> st0 >> nf0 >> st1 >> nf1\n",
    "boost_input >> nf1\n",
    "\n",
    "arch.compile()"
   ]
  },
  {
   "cell_type": "code",
   "execution_count": null,
   "id": "15e3fea7-30a9-4b84-bf9c-dece944264e9",
   "metadata": {},
   "outputs": [],
   "source": [
    "num_steps = 150\n",
    "demo = demo_huetchen(arch, eye_field=\"Attention Field\", hand_field=\"Action Field\")\n",
    "recording = demo.run(num_steps)"
   ]
  },
  {
   "cell_type": "code",
   "execution_count": null,
   "id": "799b6e87-6205-4171-bb52-c6789315be5a",
   "metadata": {},
   "outputs": [],
   "source": [
    "demo.plot()"
   ]
  }
 ],
 "metadata": {
  "kernelspec": {
   "display_name": "Python 3 (ipykernel)",
   "language": "python",
   "name": "python3"
  },
  "language_info": {
   "codemirror_mode": {
    "name": "ipython",
    "version": 3
   },
   "file_extension": ".py",
   "mimetype": "text/x-python",
   "name": "python",
   "nbconvert_exporter": "python",
   "pygments_lexer": "ipython3",
   "version": "3.12.6"
  }
 },
 "nbformat": 4,
 "nbformat_minor": 5
}
