{
 "cells": [
  {
   "cell_type": "code",
   "execution_count": null,
   "id": "8b928cfe-f498-47d0-9d13-8b5e2f5161bb",
   "metadata": {},
   "outputs": [],
   "source": [
    "import sys\n",
    "#import os\n",
    "#os.environ[\"XLA_PYTHON_CLIENT_MEM_FRACTION\"] = \"0.25\"\n",
    "import jax\n",
    "import time\n",
    "import matplotlib.pyplot as plt\n",
    "import numpy as np\n",
    "from PIL import Image, ImageDraw\n",
    "from IPython.display import display, clear_output\n",
    "\n",
    "from src import util\n",
    "from src import util_jax\n",
    "from src.util import tprint\n",
    "from src.Architecture import get_arch\n",
    "from src.Architecture import delete_arch\n",
    "import src.architecture_import as architecture_import\n",
    "\n",
    "from src.GaussKernel import GaussKernel\n",
    "from src.LinearKernelCombination import LinearKernelCombination\n",
    "from src.demo.demo2 import demo2\n",
    "\n",
    "from src.steps.GaussInput import GaussInput\n",
    "from src.steps.NeuralField import NeuralField\n",
    "from src.steps.StaticGain import StaticGain\n",
    "from src.steps.Normalization import Normalization\n",
    "from src.steps.TransferFunction import TransferFunction\n",
    "from src.steps.Convolution import Convolution\n",
    "from src.steps.DemoInput import DemoInput"
   ]
  },
  {
   "cell_type": "code",
   "execution_count": null,
   "id": "308a8fb9-995a-437e-aa46-0fab2122073f",
   "metadata": {},
   "outputs": [],
   "source": [
    "print(\"Computing devices found by JAX:\")\n",
    "print(jax.local_devices())"
   ]
  },
  {
   "cell_type": "code",
   "execution_count": null,
   "id": "42454bc6-7d08-48ff-be12-6464d9c0ce5c",
   "metadata": {},
   "outputs": [],
   "source": [
    "util_jax.get_config()[\"euler_step_static_precompile\"] =  False\n",
    "arch = get_arch()"
   ]
  },
  {
   "cell_type": "code",
   "execution_count": null,
   "id": "4e75e5f0-47fa-43ff-86b2-60e770c10d4d",
   "metadata": {},
   "outputs": [],
   "source": [
    "delete_arch()\n",
    "arch = get_arch()\n",
    "shape = (294, 447)\n",
    "\n",
    "# Prepare Input\n",
    "demo_input_0 = DemoInput(\"in0\", {\"shape\":shape, \"sigma\":(30,30), \"amplitude\":0, \"center\": (0,40)})\n",
    "demo_input_1 = DemoInput(\"in1\", {\"shape\":shape, \"sigma\":(30,30), \"amplitude\":0, \"center\": (120,40)})\n",
    "demo_input_2 = DemoInput(\"in2\", {\"shape\":shape, \"sigma\":(30,30), \"amplitude\":0, \"center\": (240,40)})\n",
    "\n",
    "# Prepare Neural Fields\n",
    "exc_kernel = GaussKernel({\"sigma\": (30,30), \"amplitude\": 24, \"normalized\": True})\n",
    "inh_kernel = GaussKernel({\"sigma\": (55,55), \"amplitude\": -18, \"normalized\": True})\n",
    "nf_kernel = LinearKernelCombination({\"kernels\": [exc_kernel, inh_kernel], \"wheights\": [0.5,0.5]})\n",
    "\n",
    "nf0 = NeuralField(\"Attention Field\", {\"shape\": shape, \"resting_level\": -5, \"global_inhibition\": -0.00025, \"tau\": 0.03,  \"input_noise_gain\": 0.5, \"sigmoid\": \"AbsSigmoid\", \"beta\": 100, \"theta\":0, \"lateral_kernel_convolution\": nf_kernel})\n",
    "nf1 = NeuralField(\"Action Field\", {\"shape\": shape, \"resting_level\": -5, \"global_inhibition\": -0.00, \"tau\": 0.03,  \"input_noise_gain\": 0.1, \"sigmoid\": \"AbsSigmoid\", \"beta\": 100, \"theta\":0, \"lateral_kernel_convolution\": nf_kernel})\n",
    "\n",
    "# Static steps\n",
    "st0 = StaticGain(\"st0\", {\"factor\": 5})\n",
    "\n",
    "# connections\n",
    "demo_input_0 >> nf0\n",
    "demo_input_1 >> nf0\n",
    "demo_input_2 >> nf0\n",
    "nf0 >> st0\n",
    "st0 >> nf1\n",
    "\n",
    "arch.compile()"
   ]
  },
  {
   "cell_type": "markdown",
   "id": "4adff3fa-d529-4281-b6f4-8b13b7d5d4cf",
   "metadata": {},
   "source": [
    "<img src=\"img/demo2_sketch.png\" alt=\"demo sketch\" width=\"400\">"
   ]
  },
  {
   "cell_type": "code",
   "execution_count": null,
   "id": "15e3fea7-30a9-4b84-bf9c-dece944264e9",
   "metadata": {},
   "outputs": [],
   "source": [
    "num_steps = 70\n",
    "demo = demo2(arch, eye_field=\"Attention Field\", hand_field=\"Action Field\")\n",
    "recording = demo.run(num_steps)"
   ]
  },
  {
   "cell_type": "code",
   "execution_count": null,
   "id": "799b6e87-6205-4171-bb52-c6789315be5a",
   "metadata": {},
   "outputs": [],
   "source": [
    "demo.plot()"
   ]
  }
 ],
 "metadata": {
  "kernelspec": {
   "display_name": "Python 3 (ipykernel)",
   "language": "python",
   "name": "python3"
  },
  "language_info": {
   "codemirror_mode": {
    "name": "ipython",
    "version": 3
   },
   "file_extension": ".py",
   "mimetype": "text/x-python",
   "name": "python",
   "nbconvert_exporter": "python",
   "pygments_lexer": "ipython3",
   "version": "3.12.6"
  }
 },
 "nbformat": 4,
 "nbformat_minor": 5
}
