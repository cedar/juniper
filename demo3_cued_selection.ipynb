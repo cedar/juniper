{
 "cells": [
  {
   "cell_type": "code",
   "execution_count": null,
   "id": "8b928cfe-f498-47d0-9d13-8b5e2f5161bb",
   "metadata": {},
   "outputs": [],
   "source": [
    "import sys\n",
    "#import os\n",
    "#os.environ[\"XLA_PYTHON_CLIENT_MEM_FRACTION\"] = \"0.25\"\n",
    "import jax\n",
    "import time\n",
    "import matplotlib.pyplot as plt\n",
    "import numpy as np\n",
    "from PIL import Image, ImageDraw\n",
    "from IPython.display import display, clear_output\n",
    "\n",
    "from src import util\n",
    "from src import util_jax\n",
    "from src.util import tprint\n",
    "from src.Architecture import get_arch\n",
    "from src.Architecture import delete_arch\n",
    "import src.architecture_import as architecture_import\n",
    "\n",
    "from src.GaussKernel import GaussKernel\n",
    "from src.LinearKernelCombination import LinearKernelCombination\n",
    "from src.demo.demo3 import demo3\n",
    "\n",
    "from src.steps.GaussInput import GaussInput\n",
    "from src.steps.NeuralField import NeuralField\n",
    "from src.steps.StaticGain import StaticGain\n",
    "from src.steps.Normalization import Normalization\n",
    "from src.steps.TransferFunction import TransferFunction\n",
    "from src.steps.Convolution import Convolution\n",
    "from src.steps.DemoInput import DemoInput\n",
    "from src.steps.Projection import Projection\n",
    "from src.steps.Sum import Sum"
   ]
  },
  {
   "cell_type": "code",
   "execution_count": null,
   "id": "308a8fb9-995a-437e-aa46-0fab2122073f",
   "metadata": {},
   "outputs": [],
   "source": [
    "print(\"Computing devices found by JAX:\")\n",
    "print(jax.local_devices())"
   ]
  },
  {
   "cell_type": "code",
   "execution_count": null,
   "id": "42454bc6-7d08-48ff-be12-6464d9c0ce5c",
   "metadata": {},
   "outputs": [],
   "source": [
    "util_jax.get_config()[\"euler_step_static_precompile\"] =  False\n",
    "arch = get_arch()"
   ]
  },
  {
   "cell_type": "code",
   "execution_count": null,
   "id": "4e75e5f0-47fa-43ff-86b2-60e770c10d4d",
   "metadata": {},
   "outputs": [],
   "source": [
    "delete_arch()\n",
    "arch = get_arch()\n",
    "\n",
    "#params\n",
    "space_shape = (294, 447)\n",
    "feature_shape = (10,)\n",
    "feature_map_shape = feature_shape+space_shape\n",
    "\n",
    "# Prepare Input\n",
    "red_pill = DemoInput(\"red_pill\", {\"shape\":feature_map_shape, \"sigma\":(0.1,30,30), \"amplitude\":4, \"center\": (2,0,0)})\n",
    "blue_pill = DemoInput(\"blue_pill\", {\"shape\":feature_map_shape, \"sigma\":(0.1,30,30), \"amplitude\":4, \"center\": (8,0,0)})\n",
    "feature_cue = DemoInput(\"feature_cue\", {\"shape\":feature_shape, \"sigma\":(0.1,), \"amplitude\":2, \"center\": (2,)})\n",
    "\n",
    "# kernel\n",
    "exc_kernel2d = GaussKernel({\"sigma\": (30,30), \"amplitude\": 6, \"normalized\": True})\n",
    "inh_kernel2d = GaussKernel({\"sigma\": (45,45), \"amplitude\": -3, \"normalized\": True})\n",
    "nf_kernel2d = LinearKernelCombination({\"kernels\": [exc_kernel2d, inh_kernel2d], \"wheights\": [0.5,0.5]})\n",
    "exc_kernel3d = GaussKernel({\"sigma\": (0.1,30,30), \"amplitude\": 7, \"normalized\": True})\n",
    "inh_kernel3d = GaussKernel({\"sigma\": (0.1,45,45), \"amplitude\": -3, \"normalized\": True})\n",
    "nf_kernel3d = LinearKernelCombination({\"kernels\": [exc_kernel3d, inh_kernel3d], \"wheights\": [0.5,0.5]})\n",
    "\n",
    "# Prepare Neural Fields\n",
    "nf0 = NeuralField(\"Attention Field\", {\"shape\": space_shape, \"resting_level\": -5, \"global_inhibition\": -0.00, \"tau\": 0.05,  \"input_noise_gain\": 0.5, \"sigmoid\": \"AbsSigmoid\", \"beta\": 100, \"theta\":0, \"lateral_kernel_convolution\": nf_kernel2d})\n",
    "nf1 = NeuralField(\"Action Field\", {\"shape\": space_shape, \"resting_level\": -5, \"global_inhibition\": -0.00, \"tau\": 0.05,  \"input_noise_gain\": 0.1, \"sigmoid\": \"AbsSigmoid\", \"beta\": 100, \"theta\":0, \"lateral_kernel_convolution\": nf_kernel2d})\n",
    "nf2 = NeuralField(\"Feature Map Field\", {\"shape\": feature_map_shape, \"resting_level\": -5, \"global_inhibition\": -0.000, \"tau\": 0.05,  \"input_noise_gain\": 0.5, \"sigmoid\": \"AbsSigmoid\", \"beta\": 100, \"theta\":0, \"lateral_kernel_convolution\": nf_kernel3d})\n",
    "\n",
    "# Static steps\n",
    "st0 = StaticGain(\"st0\", {\"factor\": 6})\n",
    "st1 = StaticGain(\"st1\", {\"factor\": 2})\n",
    "sum0 = Sum(\"sum0\", {})\n",
    "proj0 = Projection(\"proj0\", {\"input_shape\": feature_shape, \"output_shape\": feature_map_shape, \"axis\": (1,2), \"order\":(0,1,2), \"compression_type\": \"Maximum\"})\n",
    "proj1 = Projection(\"proj1\", {\"input_shape\": feature_map_shape, \"output_shape\": space_shape, \"axis\":(0), \"order\": (0,1), \"compression_type\": \"Maximum\"})\n",
    "proj2 = Projection(\"proj2\", {\"input_shape\": feature_map_shape, \"output_shape\": space_shape, \"axis\":(0), \"order\": (0,1), \"compression_type\": \"Maximum\"})\n",
    "\n",
    "# connections\n",
    "red_pill >> sum0\n",
    "blue_pill >> sum0\n",
    "sum0 >> proj2\n",
    "proj2 >> nf0\n",
    "red_pill >> nf2\n",
    "blue_pill >> nf2\n",
    "\n",
    "feature_cue >> proj0\n",
    "proj0 >> nf2\n",
    "\n",
    "nf2 >> proj1\n",
    "proj1 >> st1\n",
    "st1 >> nf0\n",
    "nf0 >> st0\n",
    "st0 >> nf1\n",
    "\n",
    "arch.compile()"
   ]
  },
  {
   "cell_type": "markdown",
   "id": "d937863c-a2eb-4e15-9523-be70cb84017d",
   "metadata": {},
   "source": [
    "<img src=\"img/demo3_sketch.png\" alt=\"demo sketch\" width=\"500\">"
   ]
  },
  {
   "cell_type": "code",
   "execution_count": null,
   "id": "15e3fea7-30a9-4b84-bf9c-dece944264e9",
   "metadata": {},
   "outputs": [],
   "source": [
    "num_steps = 80\n",
    "demo = demo3(arch, eye_field=\"Attention Field\", hand_field=\"Action Field\")\n",
    "recording = demo.run(num_steps)"
   ]
  },
  {
   "cell_type": "code",
   "execution_count": null,
   "id": "799b6e87-6205-4171-bb52-c6789315be5a",
   "metadata": {},
   "outputs": [],
   "source": [
    "demo.plot()"
   ]
  }
 ],
 "metadata": {
  "kernelspec": {
   "display_name": "Python 3 (ipykernel)",
   "language": "python",
   "name": "python3"
  },
  "language_info": {
   "codemirror_mode": {
    "name": "ipython",
    "version": 3
   },
   "file_extension": ".py",
   "mimetype": "text/x-python",
   "name": "python",
   "nbconvert_exporter": "python",
   "pygments_lexer": "ipython3",
   "version": "3.12.6"
  }
 },
 "nbformat": 4,
 "nbformat_minor": 5
}
